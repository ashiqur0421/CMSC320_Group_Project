{
  "cells": [
    {
      "cell_type": "markdown",
      "id": "6e0b1f96",
      "metadata": {
        "colab_type": "text",
        "id": "view-in-github"
      },
      "source": [
        "<a href=\"https://colab.research.google.com/github/ashiqur0421/CMSC320_Group_Project/blob/main/project.ipynb\" target=\"_parent\"><img src=\"https://colab.research.google.com/assets/colab-badge.svg\" alt=\"Open In Colab\"/></a>"
      ]
    },
    {
      "cell_type": "markdown",
      "id": "qU2m8jYnMKOF",
      "metadata": {
        "id": "qU2m8jYnMKOF"
      },
      "source": [
        "# Checkpoint 2: Data Pre-Processing, exploration and sample statistics"
      ]
    },
    {
      "cell_type": "markdown",
      "id": "QF_lvDFVM__9",
      "metadata": {
        "id": "QF_lvDFVM__9"
      },
      "source": [
        "Importing necessary libaries"
      ]
    },
    {
      "cell_type": "code",
      "execution_count": 18,
      "id": "znhXNDy9ND-6",
      "metadata": {
        "id": "znhXNDy9ND-6"
      },
      "outputs": [],
      "source": [
        "import kagglehub\n",
        "import pandas as pd\n",
        "import matplotlib.pyplot as plt\n",
        "import scipy.stats as stats"
      ]
    },
    {
      "cell_type": "markdown",
      "id": "BBYLME-5NI7j",
      "metadata": {
        "id": "BBYLME-5NI7j"
      },
      "source": [
        "**Dataframe creation**"
      ]
    },
    {
      "cell_type": "code",
      "execution_count": 19,
      "id": "pF2JA7g0NP24",
      "metadata": {
        "colab": {
          "base_uri": "https://localhost:8080/",
          "height": 545
        },
        "id": "pF2JA7g0NP24",
        "outputId": "16f4b0e3-c259-415f-d10d-b0740fd281e0"
      },
      "outputs": [
        {
          "data": {
            "text/html": [
              "<div>\n",
              "<style scoped>\n",
              "    .dataframe tbody tr th:only-of-type {\n",
              "        vertical-align: middle;\n",
              "    }\n",
              "\n",
              "    .dataframe tbody tr th {\n",
              "        vertical-align: top;\n",
              "    }\n",
              "\n",
              "    .dataframe thead th {\n",
              "        text-align: right;\n",
              "    }\n",
              "</style>\n",
              "<table border=\"1\" class=\"dataframe\">\n",
              "  <thead>\n",
              "    <tr style=\"text-align: right;\">\n",
              "      <th></th>\n",
              "      <th>PassengerId</th>\n",
              "      <th>Survived</th>\n",
              "      <th>Pclass</th>\n",
              "      <th>Name</th>\n",
              "      <th>Sex</th>\n",
              "      <th>Age</th>\n",
              "      <th>SibSp</th>\n",
              "      <th>Parch</th>\n",
              "      <th>Ticket</th>\n",
              "      <th>Fare</th>\n",
              "      <th>Cabin</th>\n",
              "      <th>Embarked</th>\n",
              "    </tr>\n",
              "  </thead>\n",
              "  <tbody>\n",
              "    <tr>\n",
              "      <th>0</th>\n",
              "      <td>1</td>\n",
              "      <td>0</td>\n",
              "      <td>3</td>\n",
              "      <td>Braund, Mr. Owen Harris</td>\n",
              "      <td>male</td>\n",
              "      <td>22.0</td>\n",
              "      <td>1</td>\n",
              "      <td>0</td>\n",
              "      <td>A/5 21171</td>\n",
              "      <td>7.2500</td>\n",
              "      <td>NaN</td>\n",
              "      <td>S</td>\n",
              "    </tr>\n",
              "    <tr>\n",
              "      <th>1</th>\n",
              "      <td>2</td>\n",
              "      <td>1</td>\n",
              "      <td>1</td>\n",
              "      <td>Cumings, Mrs. John Bradley (Florence Briggs Th...</td>\n",
              "      <td>female</td>\n",
              "      <td>38.0</td>\n",
              "      <td>1</td>\n",
              "      <td>0</td>\n",
              "      <td>PC 17599</td>\n",
              "      <td>71.2833</td>\n",
              "      <td>C85</td>\n",
              "      <td>C</td>\n",
              "    </tr>\n",
              "    <tr>\n",
              "      <th>2</th>\n",
              "      <td>3</td>\n",
              "      <td>1</td>\n",
              "      <td>3</td>\n",
              "      <td>Heikkinen, Miss. Laina</td>\n",
              "      <td>female</td>\n",
              "      <td>26.0</td>\n",
              "      <td>0</td>\n",
              "      <td>0</td>\n",
              "      <td>STON/O2. 3101282</td>\n",
              "      <td>7.9250</td>\n",
              "      <td>NaN</td>\n",
              "      <td>S</td>\n",
              "    </tr>\n",
              "    <tr>\n",
              "      <th>3</th>\n",
              "      <td>4</td>\n",
              "      <td>1</td>\n",
              "      <td>1</td>\n",
              "      <td>Futrelle, Mrs. Jacques Heath (Lily May Peel)</td>\n",
              "      <td>female</td>\n",
              "      <td>35.0</td>\n",
              "      <td>1</td>\n",
              "      <td>0</td>\n",
              "      <td>113803</td>\n",
              "      <td>53.1000</td>\n",
              "      <td>C123</td>\n",
              "      <td>S</td>\n",
              "    </tr>\n",
              "    <tr>\n",
              "      <th>4</th>\n",
              "      <td>5</td>\n",
              "      <td>0</td>\n",
              "      <td>3</td>\n",
              "      <td>Allen, Mr. William Henry</td>\n",
              "      <td>male</td>\n",
              "      <td>35.0</td>\n",
              "      <td>0</td>\n",
              "      <td>0</td>\n",
              "      <td>373450</td>\n",
              "      <td>8.0500</td>\n",
              "      <td>NaN</td>\n",
              "      <td>S</td>\n",
              "    </tr>\n",
              "    <tr>\n",
              "      <th>...</th>\n",
              "      <td>...</td>\n",
              "      <td>...</td>\n",
              "      <td>...</td>\n",
              "      <td>...</td>\n",
              "      <td>...</td>\n",
              "      <td>...</td>\n",
              "      <td>...</td>\n",
              "      <td>...</td>\n",
              "      <td>...</td>\n",
              "      <td>...</td>\n",
              "      <td>...</td>\n",
              "      <td>...</td>\n",
              "    </tr>\n",
              "    <tr>\n",
              "      <th>886</th>\n",
              "      <td>887</td>\n",
              "      <td>0</td>\n",
              "      <td>2</td>\n",
              "      <td>Montvila, Rev. Juozas</td>\n",
              "      <td>male</td>\n",
              "      <td>27.0</td>\n",
              "      <td>0</td>\n",
              "      <td>0</td>\n",
              "      <td>211536</td>\n",
              "      <td>13.0000</td>\n",
              "      <td>NaN</td>\n",
              "      <td>S</td>\n",
              "    </tr>\n",
              "    <tr>\n",
              "      <th>887</th>\n",
              "      <td>888</td>\n",
              "      <td>1</td>\n",
              "      <td>1</td>\n",
              "      <td>Graham, Miss. Margaret Edith</td>\n",
              "      <td>female</td>\n",
              "      <td>19.0</td>\n",
              "      <td>0</td>\n",
              "      <td>0</td>\n",
              "      <td>112053</td>\n",
              "      <td>30.0000</td>\n",
              "      <td>B42</td>\n",
              "      <td>S</td>\n",
              "    </tr>\n",
              "    <tr>\n",
              "      <th>888</th>\n",
              "      <td>889</td>\n",
              "      <td>0</td>\n",
              "      <td>3</td>\n",
              "      <td>Johnston, Miss. Catherine Helen \"Carrie\"</td>\n",
              "      <td>female</td>\n",
              "      <td>NaN</td>\n",
              "      <td>1</td>\n",
              "      <td>2</td>\n",
              "      <td>W./C. 6607</td>\n",
              "      <td>23.4500</td>\n",
              "      <td>NaN</td>\n",
              "      <td>S</td>\n",
              "    </tr>\n",
              "    <tr>\n",
              "      <th>889</th>\n",
              "      <td>890</td>\n",
              "      <td>1</td>\n",
              "      <td>1</td>\n",
              "      <td>Behr, Mr. Karl Howell</td>\n",
              "      <td>male</td>\n",
              "      <td>26.0</td>\n",
              "      <td>0</td>\n",
              "      <td>0</td>\n",
              "      <td>111369</td>\n",
              "      <td>30.0000</td>\n",
              "      <td>C148</td>\n",
              "      <td>C</td>\n",
              "    </tr>\n",
              "    <tr>\n",
              "      <th>890</th>\n",
              "      <td>891</td>\n",
              "      <td>0</td>\n",
              "      <td>3</td>\n",
              "      <td>Dooley, Mr. Patrick</td>\n",
              "      <td>male</td>\n",
              "      <td>32.0</td>\n",
              "      <td>0</td>\n",
              "      <td>0</td>\n",
              "      <td>370376</td>\n",
              "      <td>7.7500</td>\n",
              "      <td>NaN</td>\n",
              "      <td>Q</td>\n",
              "    </tr>\n",
              "  </tbody>\n",
              "</table>\n",
              "<p>891 rows × 12 columns</p>\n",
              "</div>"
            ],
            "text/plain": [
              "     PassengerId  Survived  Pclass  \\\n",
              "0              1         0       3   \n",
              "1              2         1       1   \n",
              "2              3         1       3   \n",
              "3              4         1       1   \n",
              "4              5         0       3   \n",
              "..           ...       ...     ...   \n",
              "886          887         0       2   \n",
              "887          888         1       1   \n",
              "888          889         0       3   \n",
              "889          890         1       1   \n",
              "890          891         0       3   \n",
              "\n",
              "                                                  Name     Sex   Age  SibSp  \\\n",
              "0                              Braund, Mr. Owen Harris    male  22.0      1   \n",
              "1    Cumings, Mrs. John Bradley (Florence Briggs Th...  female  38.0      1   \n",
              "2                               Heikkinen, Miss. Laina  female  26.0      0   \n",
              "3         Futrelle, Mrs. Jacques Heath (Lily May Peel)  female  35.0      1   \n",
              "4                             Allen, Mr. William Henry    male  35.0      0   \n",
              "..                                                 ...     ...   ...    ...   \n",
              "886                              Montvila, Rev. Juozas    male  27.0      0   \n",
              "887                       Graham, Miss. Margaret Edith  female  19.0      0   \n",
              "888           Johnston, Miss. Catherine Helen \"Carrie\"  female   NaN      1   \n",
              "889                              Behr, Mr. Karl Howell    male  26.0      0   \n",
              "890                                Dooley, Mr. Patrick    male  32.0      0   \n",
              "\n",
              "     Parch            Ticket     Fare Cabin Embarked  \n",
              "0        0         A/5 21171   7.2500   NaN        S  \n",
              "1        0          PC 17599  71.2833   C85        C  \n",
              "2        0  STON/O2. 3101282   7.9250   NaN        S  \n",
              "3        0            113803  53.1000  C123        S  \n",
              "4        0            373450   8.0500   NaN        S  \n",
              "..     ...               ...      ...   ...      ...  \n",
              "886      0            211536  13.0000   NaN        S  \n",
              "887      0            112053  30.0000   B42        S  \n",
              "888      2        W./C. 6607  23.4500   NaN        S  \n",
              "889      0            111369  30.0000  C148        C  \n",
              "890      0            370376   7.7500   NaN        Q  \n",
              "\n",
              "[891 rows x 12 columns]"
            ]
          },
          "execution_count": 19,
          "metadata": {},
          "output_type": "execute_result"
        }
      ],
      "source": [
        "# Importing the latest version of the dataset\n",
        "path = kagglehub.dataset_download(\"yasserh/titanic-dataset\")\n",
        "# dataframe\n",
        "df = pd.read_csv(\"Titanic-Dataset.csv\")\n",
        "df"
      ]
    },
    {
      "cell_type": "markdown",
      "id": "LylKYGXiO6hh",
      "metadata": {
        "id": "LylKYGXiO6hh"
      },
      "source": [
        "**DataFrame Info**"
      ]
    },
    {
      "cell_type": "code",
      "execution_count": 20,
      "id": "ADEetlsgOryF",
      "metadata": {
        "colab": {
          "base_uri": "https://localhost:8080/"
        },
        "id": "ADEetlsgOryF",
        "outputId": "77e542d8-cf37-478c-c590-5d2a001b606e"
      },
      "outputs": [
        {
          "name": "stdout",
          "output_type": "stream",
          "text": [
            "<class 'pandas.core.frame.DataFrame'>\n",
            "RangeIndex: 891 entries, 0 to 890\n",
            "Data columns (total 12 columns):\n",
            " #   Column       Non-Null Count  Dtype  \n",
            "---  ------       --------------  -----  \n",
            " 0   PassengerId  891 non-null    int64  \n",
            " 1   Survived     891 non-null    int64  \n",
            " 2   Pclass       891 non-null    int64  \n",
            " 3   Name         891 non-null    object \n",
            " 4   Sex          891 non-null    object \n",
            " 5   Age          714 non-null    float64\n",
            " 6   SibSp        891 non-null    int64  \n",
            " 7   Parch        891 non-null    int64  \n",
            " 8   Ticket       891 non-null    object \n",
            " 9   Fare         891 non-null    float64\n",
            " 10  Cabin        204 non-null    object \n",
            " 11  Embarked     889 non-null    object \n",
            "dtypes: float64(2), int64(5), object(5)\n",
            "memory usage: 83.7+ KB\n",
            "None\n",
            "0      False\n",
            "1      False\n",
            "2      False\n",
            "3      False\n",
            "4      False\n",
            "       ...  \n",
            "886    False\n",
            "887    False\n",
            "888    False\n",
            "889    False\n",
            "890    False\n",
            "Length: 891, dtype: bool\n"
          ]
        }
      ],
      "source": [
        "print(df.info())\n",
        "print(df.duplicated())"
      ]
    },
    {
      "cell_type": "markdown",
      "id": "Jy5kNx9sO_q8",
      "metadata": {
        "id": "Jy5kNx9sO_q8"
      },
      "source": [
        "**Discussion about datafram**: This dataset contians 891 entries and 12 features. Based on the df.info(), only 'Age' column is missing values.  <br>\n",
        "There are no duplicate rows as indicated by df.duplicated() being equal to number of entires."
      ]
    },
    {
      "cell_type": "markdown",
      "id": "DbHP9UTzNiV-",
      "metadata": {
        "id": "DbHP9UTzNiV-"
      },
      "source": [
        "**Significance Level Choice**: For all hypothesis testing, we are choosing a significance level α = 0.05."
      ]
    },
    {
      "cell_type": "markdown",
      "id": "WdwzMCO8OMs5",
      "metadata": {
        "id": "WdwzMCO8OMs5"
      },
      "source": [
        "---------------------------------------------------------- <br>\n",
        "---------------------------------------------------------- <br>\n",
        "---------------------------------------------------------- <br>"
      ]
    },
    {
      "cell_type": "code",
      "execution_count": 21,
      "id": "146c8f99",
      "metadata": {
        "colab": {
          "base_uri": "https://localhost:8080/",
          "height": 632
        },
        "id": "146c8f99",
        "outputId": "98ee7484-10ce-495b-d137-ce4d14d02e1a"
      },
      "outputs": [
        {
          "name": "stdout",
          "output_type": "stream",
          "text": [
            "Survived    0    1\n",
            "Pclass            \n",
            "1          80  136\n",
            "2          97   87\n",
            "3         372  119\n",
            "Chi-square: 102.889  p-value: 0.000000\n"
          ]
        },
        {
          "data": {
            "text/html": [
              "<div>\n",
              "<style scoped>\n",
              "    .dataframe tbody tr th:only-of-type {\n",
              "        vertical-align: middle;\n",
              "    }\n",
              "\n",
              "    .dataframe tbody tr th {\n",
              "        vertical-align: top;\n",
              "    }\n",
              "\n",
              "    .dataframe thead th {\n",
              "        text-align: right;\n",
              "    }\n",
              "</style>\n",
              "<table border=\"1\" class=\"dataframe\">\n",
              "  <thead>\n",
              "    <tr style=\"text-align: right;\">\n",
              "      <th></th>\n",
              "      <th>PassengerId</th>\n",
              "      <th>Survived</th>\n",
              "      <th>Pclass</th>\n",
              "      <th>Name</th>\n",
              "      <th>Sex</th>\n",
              "      <th>Age</th>\n",
              "      <th>SibSp</th>\n",
              "      <th>Parch</th>\n",
              "      <th>Ticket</th>\n",
              "      <th>Fare</th>\n",
              "      <th>Cabin</th>\n",
              "      <th>Embarked</th>\n",
              "    </tr>\n",
              "  </thead>\n",
              "  <tbody>\n",
              "    <tr>\n",
              "      <th>0</th>\n",
              "      <td>1</td>\n",
              "      <td>0</td>\n",
              "      <td>3</td>\n",
              "      <td>Braund, Mr. Owen Harris</td>\n",
              "      <td>0</td>\n",
              "      <td>22.0</td>\n",
              "      <td>1</td>\n",
              "      <td>0</td>\n",
              "      <td>A/5 21171</td>\n",
              "      <td>7.2500</td>\n",
              "      <td>NaN</td>\n",
              "      <td>S</td>\n",
              "    </tr>\n",
              "    <tr>\n",
              "      <th>1</th>\n",
              "      <td>2</td>\n",
              "      <td>1</td>\n",
              "      <td>1</td>\n",
              "      <td>Cumings, Mrs. John Bradley (Florence Briggs Th...</td>\n",
              "      <td>1</td>\n",
              "      <td>38.0</td>\n",
              "      <td>1</td>\n",
              "      <td>0</td>\n",
              "      <td>PC 17599</td>\n",
              "      <td>71.2833</td>\n",
              "      <td>C85</td>\n",
              "      <td>C</td>\n",
              "    </tr>\n",
              "    <tr>\n",
              "      <th>2</th>\n",
              "      <td>3</td>\n",
              "      <td>1</td>\n",
              "      <td>3</td>\n",
              "      <td>Heikkinen, Miss. Laina</td>\n",
              "      <td>1</td>\n",
              "      <td>26.0</td>\n",
              "      <td>0</td>\n",
              "      <td>0</td>\n",
              "      <td>STON/O2. 3101282</td>\n",
              "      <td>7.9250</td>\n",
              "      <td>NaN</td>\n",
              "      <td>S</td>\n",
              "    </tr>\n",
              "    <tr>\n",
              "      <th>3</th>\n",
              "      <td>4</td>\n",
              "      <td>1</td>\n",
              "      <td>1</td>\n",
              "      <td>Futrelle, Mrs. Jacques Heath (Lily May Peel)</td>\n",
              "      <td>1</td>\n",
              "      <td>35.0</td>\n",
              "      <td>1</td>\n",
              "      <td>0</td>\n",
              "      <td>113803</td>\n",
              "      <td>53.1000</td>\n",
              "      <td>C123</td>\n",
              "      <td>S</td>\n",
              "    </tr>\n",
              "    <tr>\n",
              "      <th>4</th>\n",
              "      <td>5</td>\n",
              "      <td>0</td>\n",
              "      <td>3</td>\n",
              "      <td>Allen, Mr. William Henry</td>\n",
              "      <td>0</td>\n",
              "      <td>35.0</td>\n",
              "      <td>0</td>\n",
              "      <td>0</td>\n",
              "      <td>373450</td>\n",
              "      <td>8.0500</td>\n",
              "      <td>NaN</td>\n",
              "      <td>S</td>\n",
              "    </tr>\n",
              "    <tr>\n",
              "      <th>...</th>\n",
              "      <td>...</td>\n",
              "      <td>...</td>\n",
              "      <td>...</td>\n",
              "      <td>...</td>\n",
              "      <td>...</td>\n",
              "      <td>...</td>\n",
              "      <td>...</td>\n",
              "      <td>...</td>\n",
              "      <td>...</td>\n",
              "      <td>...</td>\n",
              "      <td>...</td>\n",
              "      <td>...</td>\n",
              "    </tr>\n",
              "    <tr>\n",
              "      <th>886</th>\n",
              "      <td>887</td>\n",
              "      <td>0</td>\n",
              "      <td>2</td>\n",
              "      <td>Montvila, Rev. Juozas</td>\n",
              "      <td>0</td>\n",
              "      <td>27.0</td>\n",
              "      <td>0</td>\n",
              "      <td>0</td>\n",
              "      <td>211536</td>\n",
              "      <td>13.0000</td>\n",
              "      <td>NaN</td>\n",
              "      <td>S</td>\n",
              "    </tr>\n",
              "    <tr>\n",
              "      <th>887</th>\n",
              "      <td>888</td>\n",
              "      <td>1</td>\n",
              "      <td>1</td>\n",
              "      <td>Graham, Miss. Margaret Edith</td>\n",
              "      <td>1</td>\n",
              "      <td>19.0</td>\n",
              "      <td>0</td>\n",
              "      <td>0</td>\n",
              "      <td>112053</td>\n",
              "      <td>30.0000</td>\n",
              "      <td>B42</td>\n",
              "      <td>S</td>\n",
              "    </tr>\n",
              "    <tr>\n",
              "      <th>888</th>\n",
              "      <td>889</td>\n",
              "      <td>0</td>\n",
              "      <td>3</td>\n",
              "      <td>Johnston, Miss. Catherine Helen \"Carrie\"</td>\n",
              "      <td>1</td>\n",
              "      <td>28.0</td>\n",
              "      <td>1</td>\n",
              "      <td>2</td>\n",
              "      <td>W./C. 6607</td>\n",
              "      <td>23.4500</td>\n",
              "      <td>NaN</td>\n",
              "      <td>S</td>\n",
              "    </tr>\n",
              "    <tr>\n",
              "      <th>889</th>\n",
              "      <td>890</td>\n",
              "      <td>1</td>\n",
              "      <td>1</td>\n",
              "      <td>Behr, Mr. Karl Howell</td>\n",
              "      <td>0</td>\n",
              "      <td>26.0</td>\n",
              "      <td>0</td>\n",
              "      <td>0</td>\n",
              "      <td>111369</td>\n",
              "      <td>30.0000</td>\n",
              "      <td>C148</td>\n",
              "      <td>C</td>\n",
              "    </tr>\n",
              "    <tr>\n",
              "      <th>890</th>\n",
              "      <td>891</td>\n",
              "      <td>0</td>\n",
              "      <td>3</td>\n",
              "      <td>Dooley, Mr. Patrick</td>\n",
              "      <td>0</td>\n",
              "      <td>32.0</td>\n",
              "      <td>0</td>\n",
              "      <td>0</td>\n",
              "      <td>370376</td>\n",
              "      <td>7.7500</td>\n",
              "      <td>NaN</td>\n",
              "      <td>Q</td>\n",
              "    </tr>\n",
              "  </tbody>\n",
              "</table>\n",
              "<p>891 rows × 12 columns</p>\n",
              "</div>"
            ],
            "text/plain": [
              "     PassengerId  Survived  Pclass  \\\n",
              "0              1         0       3   \n",
              "1              2         1       1   \n",
              "2              3         1       3   \n",
              "3              4         1       1   \n",
              "4              5         0       3   \n",
              "..           ...       ...     ...   \n",
              "886          887         0       2   \n",
              "887          888         1       1   \n",
              "888          889         0       3   \n",
              "889          890         1       1   \n",
              "890          891         0       3   \n",
              "\n",
              "                                                  Name  Sex   Age  SibSp  \\\n",
              "0                              Braund, Mr. Owen Harris    0  22.0      1   \n",
              "1    Cumings, Mrs. John Bradley (Florence Briggs Th...    1  38.0      1   \n",
              "2                               Heikkinen, Miss. Laina    1  26.0      0   \n",
              "3         Futrelle, Mrs. Jacques Heath (Lily May Peel)    1  35.0      1   \n",
              "4                             Allen, Mr. William Henry    0  35.0      0   \n",
              "..                                                 ...  ...   ...    ...   \n",
              "886                              Montvila, Rev. Juozas    0  27.0      0   \n",
              "887                       Graham, Miss. Margaret Edith    1  19.0      0   \n",
              "888           Johnston, Miss. Catherine Helen \"Carrie\"    1  28.0      1   \n",
              "889                              Behr, Mr. Karl Howell    0  26.0      0   \n",
              "890                                Dooley, Mr. Patrick    0  32.0      0   \n",
              "\n",
              "     Parch            Ticket     Fare Cabin Embarked  \n",
              "0        0         A/5 21171   7.2500   NaN        S  \n",
              "1        0          PC 17599  71.2833   C85        C  \n",
              "2        0  STON/O2. 3101282   7.9250   NaN        S  \n",
              "3        0            113803  53.1000  C123        S  \n",
              "4        0            373450   8.0500   NaN        S  \n",
              "..     ...               ...      ...   ...      ...  \n",
              "886      0            211536  13.0000   NaN        S  \n",
              "887      0            112053  30.0000   B42        S  \n",
              "888      2        W./C. 6607  23.4500   NaN        S  \n",
              "889      0            111369  30.0000  C148        C  \n",
              "890      0            370376   7.7500   NaN        Q  \n",
              "\n",
              "[891 rows x 12 columns]"
            ]
          },
          "execution_count": 21,
          "metadata": {},
          "output_type": "execute_result"
        }
      ],
      "source": [
        "def str_to_int(val):\n",
        "    if val == 'male':\n",
        "        return 0\n",
        "    elif val == 'female':\n",
        "        return 1\n",
        "    else:\n",
        "        return None\n",
        "\n",
        "df['Sex'] = df['Sex'].apply(str_to_int)\n",
        "df['Age'] = pd.to_numeric(df['Age'], errors='coerce').fillna(df['Age'].median())\n",
        "\n",
        "contingency_table = pd.crosstab(df['Pclass'], df['Survived'])\n",
        "chi2_class, p_class, dof_class, _ = stats.chi2_contingency(contingency_table)\n",
        "print(contingency_table)\n",
        "print(f\"Chi-square: {chi2_class:.3f}  p-value: {p_class:.6f}\")\n",
        "\n",
        "\n",
        "# Man vs Woman Chi-squared test (Who survives?)\n",
        "# Survival rate vs pass. class\n",
        "# Age outliers\n",
        "\n",
        "df"
      ]
    },
    {
      "cell_type": "markdown",
      "id": "ZiQ6JcPxbGZ5",
      "metadata": {
        "id": "ZiQ6JcPxbGZ5"
      },
      "source": [
        "From the contigency table, we see that there is a statistically significant relationship between passenger class and survival outcome. Passenger class is correlated with whether a passenger survived the Titanic. First class passengers were much more likely to survive, and this makes logical sense because they had better access to lifeboats and were given priority. The p-value is less than 0.01, meaning we reject the null hypothesis and conclude that passenger class is strongly associated with survival on the Titanic."
      ]
    },
    {
      "cell_type": "code",
      "execution_count": 22,
      "id": "fD-0EF9YYzoR",
      "metadata": {
        "colab": {
          "base_uri": "https://localhost:8080/",
          "height": 452
        },
        "id": "fD-0EF9YYzoR",
        "outputId": "454d8ee2-83a8-4377-baa1-fae118523090"
      },
      "outputs": [
        {
          "data": {
            "image/png": "[encoded data removed]",
            "text/plain": [
              "<Figure size 640x480 with 1 Axes>"
            ]
          },
          "metadata": {},
          "output_type": "display_data"
        }
      ],
      "source": [
        "survive_rate_class = contingency_table[1] / contingency_table.sum(axis=1)\n",
        "x_values = [\"1st Class\", \"2nd Class\", \"3rd Class\"]\n",
        "survival = survive_rate_class.values\n",
        "plt.bar(x_values, survival)\n",
        "plt.title(\"Survival Rate vs. Passenger Class\")\n",
        "plt.ylabel(\"Survival Rate\")\n",
        "plt.show()"
      ]
    },
    {
      "cell_type": "markdown",
      "id": "_z1iUbMO6l8H",
      "metadata": {
        "id": "_z1iUbMO6l8H"
      },
      "source": [
        "**Passenger Fair vs Survivibility**"
      ]
    },
    {
      "cell_type": "code",
      "execution_count": 23,
      "id": "YXLZfTE3D4QS",
      "metadata": {
        "colab": {
          "base_uri": "https://localhost:8080/",
          "height": 722
        },
        "id": "YXLZfTE3D4QS",
        "outputId": "793675d0-f3cc-40be-b984-e6c7181e5363"
      },
      "outputs": [
        {
          "name": "stdout",
          "output_type": "stream",
          "text": [
            "----- Survived ----- \n"
          ]
        },
        {
          "data": {
            "text/plain": [
              "count    342.000000\n",
              "mean      48.395408\n",
              "std       66.596998\n",
              "min        0.000000\n",
              "25%       12.475000\n",
              "50%       26.000000\n",
              "75%       57.000000\n",
              "max      512.329200\n",
              "Name: Fare, dtype: float64"
            ]
          },
          "metadata": {},
          "output_type": "display_data"
        },
        {
          "name": "stdout",
          "output_type": "stream",
          "text": [
            "\n",
            "\n",
            "----- Not Survived ----- \n"
          ]
        },
        {
          "data": {
            "text/plain": [
              "count    549.000000\n",
              "mean      22.117887\n",
              "std       31.388207\n",
              "min        0.000000\n",
              "25%        7.854200\n",
              "50%       10.500000\n",
              "75%       26.000000\n",
              "max      263.000000\n",
              "Name: Fare, dtype: float64"
            ]
          },
          "metadata": {},
          "output_type": "display_data"
        }
      ],
      "source": [
        "fare_survived = df[df['Survived'] == 1]['Fare']\n",
        "fare_died = df[df['Survived'] == 0]['Fare']\n",
        "\n",
        "# displaying summary statistics for both group\n",
        "print(\"----- Survived ----- \")\n",
        "display(fare_survived.describe())\n",
        "print(\"\\n\\n----- Not Survived ----- \")\n",
        "display(fare_died.describe())"
      ]
    },
    {
      "cell_type": "markdown",
      "id": "PHYdvx7A7g11",
      "metadata": {
        "id": "PHYdvx7A7g11"
      },
      "source": [
        "There are only two possible results for survivibility: Survived or Died. So, these two groups are independent regarding themselves. <br>\n",
        "H0: Both groups have no difference in fair  <br>\n",
        "HA: Both groups have difference in fair"
      ]
    },
    {
      "cell_type": "code",
      "execution_count": 24,
      "id": "GunBOeI87B9E",
      "metadata": {
        "colab": {
          "base_uri": "https://localhost:8080/"
        },
        "id": "GunBOeI87B9E",
        "outputId": "71351cb7-8e28-447b-f1bd-3a3195144fe2"
      },
      "outputs": [
        {
          "name": "stdout",
          "output_type": "stream",
          "text": [
            "unpaired_t test ==> p_value: 2.6993323503141236e-11\n",
            "mann-whitney u ==> p value: 4.553477179250237e-22\n"
          ]
        }
      ],
      "source": [
        "# unpaired t-test\n",
        "t_stat, p_value = stats.ttest_ind(fare_survived, fare_died, equal_var=False, alternative = 'two-sided')\n",
        "print(\"unpaired_t test ==> p_value:\", p_value)\n",
        "\n",
        "# mann-whitney u test\n",
        "u, p_value = stats.mannwhitneyu(fare_survived, fare_died, alternative='two-sided')\n",
        "print(\"mann-whitney u ==> p value:\", p_value)"
      ]
    },
    {
      "cell_type": "markdown",
      "id": "cF6hrKQRCKpE",
      "metadata": {
        "id": "cF6hrKQRCKpE"
      },
      "source": [
        "Based on the unpaired t-test, the p-value is 2.70e-11 which is way less than the significance level of 0.05. This means, we reject the null hypothesis meaning there was a signifant difference between survived and not-survived people's fare. On other words, fair did have an effect on the survivibility of the passesgeners."
      ]
    },
    {
      "cell_type": "code",
      "execution_count": 25,
      "id": "JYaODDpWDKlD",
      "metadata": {
        "colab": {
          "base_uri": "https://localhost:8080/",
          "height": 523
        },
        "id": "JYaODDpWDKlD",
        "outputId": "698295e8-af15-4804-c6bd-7a02b40ae86c"
      },
      "outputs": [
        {
          "name": "stderr",
          "output_type": "stream",
          "text": [
            "C:\\Users\\jeplu\\AppData\\Local\\Temp\\ipykernel_46228\\2357041921.py:2: MatplotlibDeprecationWarning: The 'labels' parameter of boxplot() has been renamed 'tick_labels' since Matplotlib 3.9; support for the old name will be dropped in 3.11.\n",
            "  plt.boxplot([fare_survived, fare_died], labels = ['Survived', 'Not Survived'])\n"
          ]
        },
        {
          "data": {
            "image/png": "[encoded data removed]",
            "text/plain": [
              "<Figure size 600x500 with 1 Axes>"
            ]
          },
          "metadata": {},
          "output_type": "display_data"
        }
      ],
      "source": [
        "plt.figure(figsize=(6, 5))\n",
        "plt.boxplot([fare_survived, fare_died], labels = ['Survived', 'Not Survived'])\n",
        "plt.title(\"Fare vs Survivibility\")\n",
        "plt.ylabel(\"Fare\")\n",
        "plt.show()"
      ]
    },
    {
      "cell_type": "markdown",
      "id": "89ac18e2",
      "metadata": {},
      "source": [
        "**Passanger Age vs Survival Rate**"
      ]
    },
    {
      "cell_type": "code",
      "execution_count": 28,
      "id": "a0060c23",
      "metadata": {},
      "outputs": [
        {
          "name": "stdout",
          "output_type": "stream",
          "text": [
            "----- Survived ----- \n"
          ]
        },
        {
          "data": {
            "text/plain": [
              "count    342.000000\n",
              "mean      28.291433\n",
              "std       13.764425\n",
              "min        0.420000\n",
              "25%       21.000000\n",
              "50%       28.000000\n",
              "75%       35.000000\n",
              "max       80.000000\n",
              "Name: Age, dtype: float64"
            ]
          },
          "metadata": {},
          "output_type": "display_data"
        },
        {
          "name": "stdout",
          "output_type": "stream",
          "text": [
            "\n",
            "\n",
            "----- Not Survived ----- \n"
          ]
        },
        {
          "data": {
            "text/plain": [
              "count    549.000000\n",
              "mean      30.028233\n",
              "std       12.499986\n",
              "min        1.000000\n",
              "25%       23.000000\n",
              "50%       28.000000\n",
              "75%       35.000000\n",
              "max       74.000000\n",
              "Name: Age, dtype: float64"
            ]
          },
          "metadata": {},
          "output_type": "display_data"
        }
      ],
      "source": [
        "age_survived = df[df[\"Survived\"] == 1][\"Age\"]\n",
        "age_not_survived = df[df[\"Survived\"] == 0][\"Age\"]\n",
        "\n",
        "# displaying summary statistics for both group\n",
        "print(\"----- Survived ----- \")\n",
        "display(age_survived.describe())\n",
        "print(\"\\n\\n----- Not Survived ----- \")\n",
        "display(age_not_survived.describe())"
      ]
    },
    {
      "cell_type": "markdown",
      "id": "a5a12c97",
      "metadata": {},
      "source": [
        "H0: There is no meaningful difference between ages of those that survived and those that didn't.\n",
        "\n",
        "HA: There is a meaningful difference between ages of those that survived and those that didn't."
      ]
    },
    {
      "cell_type": "code",
      "execution_count": null,
      "id": "fdfcdc4a",
      "metadata": {},
      "outputs": [
        {
          "name": "stdout",
          "output_type": "stream",
          "text": [
            "unpaired_t test ==> p_value: 0.058309159977757444\n",
            "mann-whitney u ==> p value: 0.03984874640850986\n"
          ]
        }
      ],
      "source": [
        "# unpaired t-test\n",
        "t_stat, p_value = stats.ttest_ind(age_survived, age_not_survived, equal_var=False, alternative = 'two-sided')\n",
        "print(\"unpaired_t test ==> p_value:\", p_value)\n",
        "\n",
        "# mann-whitney u test\n",
        "u, p_value = stats.mannwhitneyu(fare_survived, age_not_survived, alternative='two-sided')\n",
        "print(\"mann-whitney u ==> p value:\", p_value)"
      ]
    },
    {
      "cell_type": "markdown",
      "id": "5a46d9d2",
      "metadata": {},
      "source": [
        "The Mann-Whitney test gave a p-value of 0.03984874640850986, which is under our significance level of .05. We reject the null hypothesis, suggesting statistically significant differences between the age distributions of survivors vs non-survivors.\n",
        "\n",
        "However, the t-test had a p-value of 0.058309159977757444, which is over our significance level of .05, meaning we fail to reject the null hypothesis. This suggests that there is no statistical significance between the mean ages of those who survived and those who didn't\n",
        "\n",
        "So, the averages may be similar, but the distributions of survivors' vs. non-survivors' age is different. We reject the null hypothesis based on the Mann-Whitney U test, but fail to reject it based on the t-test."
      ]
    },
    {
      "cell_type": "code",
      "execution_count": 32,
      "id": "9460806d",
      "metadata": {},
      "outputs": [
        {
          "name": "stderr",
          "output_type": "stream",
          "text": [
            "C:\\Users\\jeplu\\AppData\\Local\\Temp\\ipykernel_46228\\1000708352.py:2: MatplotlibDeprecationWarning: The 'labels' parameter of boxplot() has been renamed 'tick_labels' since Matplotlib 3.9; support for the old name will be dropped in 3.11.\n",
            "  plt.boxplot([age_survived, age_not_survived], labels = ['Survived', 'Not Survived'])\n"
          ]
        },
        {
          "data": {
            "image/png": "[encoded data removed]",
            "text/plain": [
              "<Figure size 600x500 with 1 Axes>"
            ]
          },
          "metadata": {},
          "output_type": "display_data"
        }
      ],
      "source": [
        "plt.figure(figsize=(6, 5))\n",
        "plt.boxplot([age_survived, age_not_survived], labels = ['Survived', 'Not Survived'])\n",
        "plt.title(\"Age vs Survivibility\")\n",
        "plt.ylabel(\"Age\")\n",
        "plt.show()"
      ]
    }
  ],
  "metadata": {
    "colab": {
      "include_colab_link": true,
      "provenance": []
    },
    "kernelspec": {
      "display_name": "Python 3",
      "language": "python",
      "name": "python3"
    },
    "language_info": {
      "codemirror_mode": {
        "name": "ipython",
        "version": 3
      },
      "file_extension": ".py",
      "mimetype": "text/x-python",
      "name": "python",
      "nbconvert_exporter": "python",
      "pygments_lexer": "ipython3",
      "version": "3.11.9"
    }
  },
  "nbformat": 4,
  "nbformat_minor": 5
}
