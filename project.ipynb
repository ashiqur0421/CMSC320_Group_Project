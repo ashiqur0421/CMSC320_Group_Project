{
 "cells": [
  {
   "cell_type": "markdown",
   "metadata": {
    "id": "view-in-github",
    "colab_type": "text"
   },
   "source": [
    "<a href=\"https://colab.research.google.com/github/ashiqur0421/CMSC320_Group_Project/blob/main/project.ipynb\" target=\"_parent\"><img src=\"https://colab.research.google.com/assets/colab-badge.svg\" alt=\"Open In Colab\"/></a>"
   ],
   "id": "c262637c36252034"
  },
  {
   "cell_type": "markdown",
   "source": [
    "# Checkpoint 2: Data Pre-Processing, exploration and sample statistics"
   ],
   "metadata": {
    "id": "qU2m8jYnMKOF"
   },
   "id": "qU2m8jYnMKOF"
  },
  {
   "cell_type": "markdown",
   "source": "## Importing necessary libaries",
   "metadata": {
    "id": "QF_lvDFVM__9"
   },
   "id": "QF_lvDFVM__9"
  },
  {
   "cell_type": "code",
   "source": [
    "import kagglehub\n",
    "import pandas as pd\n",
    "import matplotlib.pyplot as plt\n",
    "import scipy.stats as stats\n",
    "from statsmodels.stats.proportion import proportions_ztest"
   ],
   "metadata": {
    "id": "znhXNDy9ND-6",
    "ExecuteTime": {
     "end_time": "2025-10-27T23:51:28.566113Z",
     "start_time": "2025-10-27T23:51:28.562254Z"
    }
   },
   "id": "znhXNDy9ND-6",
   "outputs": [],
   "execution_count": 25
  },
  {
   "cell_type": "markdown",
   "source": "## Dataframe creation",
   "metadata": {
    "id": "BBYLME-5NI7j"
   },
   "id": "BBYLME-5NI7j"
  },
  {
   "cell_type": "code",
   "source": [
    "# dataframe\n",
    "df = pd.read_csv(\"Titanic-Dataset.csv\")\n",
    "df"
   ],
   "metadata": {
    "id": "pF2JA7g0NP24",
    "outputId": "16f4b0e3-c259-415f-d10d-b0740fd281e0",
    "colab": {
     "base_uri": "https://localhost:8080/",
     "height": 545
    },
    "ExecuteTime": {
     "end_time": "2025-10-27T23:51:28.603349Z",
     "start_time": "2025-10-27T23:51:28.589857Z"
    }
   },
   "id": "pF2JA7g0NP24",
   "outputs": [
    {
     "data": {
      "text/plain": [
       "     PassengerId  Survived  Pclass  \\\n",
       "0              1         0       3   \n",
       "1              2         1       1   \n",
       "2              3         1       3   \n",
       "3              4         1       1   \n",
       "4              5         0       3   \n",
       "..           ...       ...     ...   \n",
       "886          887         0       2   \n",
       "887          888         1       1   \n",
       "888          889         0       3   \n",
       "889          890         1       1   \n",
       "890          891         0       3   \n",
       "\n",
       "                                                  Name     Sex   Age  SibSp  \\\n",
       "0                              Braund, Mr. Owen Harris    male  22.0      1   \n",
       "1    Cumings, Mrs. John Bradley (Florence Briggs Th...  female  38.0      1   \n",
       "2                               Heikkinen, Miss. Laina  female  26.0      0   \n",
       "3         Futrelle, Mrs. Jacques Heath (Lily May Peel)  female  35.0      1   \n",
       "4                             Allen, Mr. William Henry    male  35.0      0   \n",
       "..                                                 ...     ...   ...    ...   \n",
       "886                              Montvila, Rev. Juozas    male  27.0      0   \n",
       "887                       Graham, Miss. Margaret Edith  female  19.0      0   \n",
       "888           Johnston, Miss. Catherine Helen \"Carrie\"  female   NaN      1   \n",
       "889                              Behr, Mr. Karl Howell    male  26.0      0   \n",
       "890                                Dooley, Mr. Patrick    male  32.0      0   \n",
       "\n",
       "     Parch            Ticket     Fare Cabin Embarked  \n",
       "0        0         A/5 21171   7.2500   NaN        S  \n",
       "1        0          PC 17599  71.2833   C85        C  \n",
       "2        0  STON/O2. 3101282   7.9250   NaN        S  \n",
       "3        0            113803  53.1000  C123        S  \n",
       "4        0            373450   8.0500   NaN        S  \n",
       "..     ...               ...      ...   ...      ...  \n",
       "886      0            211536  13.0000   NaN        S  \n",
       "887      0            112053  30.0000   B42        S  \n",
       "888      2        W./C. 6607  23.4500   NaN        S  \n",
       "889      0            111369  30.0000  C148        C  \n",
       "890      0            370376   7.7500   NaN        Q  \n",
       "\n",
       "[891 rows x 12 columns]"
      ],
      "text/html": [
       "<div>\n",
       "<style scoped>\n",
       "    .dataframe tbody tr th:only-of-type {\n",
       "        vertical-align: middle;\n",
       "    }\n",
       "\n",
       "    .dataframe tbody tr th {\n",
       "        vertical-align: top;\n",
       "    }\n",
       "\n",
       "    .dataframe thead th {\n",
       "        text-align: right;\n",
       "    }\n",
       "</style>\n",
       "<table border=\"1\" class=\"dataframe\">\n",
       "  <thead>\n",
       "    <tr style=\"text-align: right;\">\n",
       "      <th></th>\n",
       "      <th>PassengerId</th>\n",
       "      <th>Survived</th>\n",
       "      <th>Pclass</th>\n",
       "      <th>Name</th>\n",
       "      <th>Sex</th>\n",
       "      <th>Age</th>\n",
       "      <th>SibSp</th>\n",
       "      <th>Parch</th>\n",
       "      <th>Ticket</th>\n",
       "      <th>Fare</th>\n",
       "      <th>Cabin</th>\n",
       "      <th>Embarked</th>\n",
       "    </tr>\n",
       "  </thead>\n",
       "  <tbody>\n",
       "    <tr>\n",
       "      <th>0</th>\n",
       "      <td>1</td>\n",
       "      <td>0</td>\n",
       "      <td>3</td>\n",
       "      <td>Braund, Mr. Owen Harris</td>\n",
       "      <td>male</td>\n",
       "      <td>22.0</td>\n",
       "      <td>1</td>\n",
       "      <td>0</td>\n",
       "      <td>A/5 21171</td>\n",
       "      <td>7.2500</td>\n",
       "      <td>NaN</td>\n",
       "      <td>S</td>\n",
       "    </tr>\n",
       "    <tr>\n",
       "      <th>1</th>\n",
       "      <td>2</td>\n",
       "      <td>1</td>\n",
       "      <td>1</td>\n",
       "      <td>Cumings, Mrs. John Bradley (Florence Briggs Th...</td>\n",
       "      <td>female</td>\n",
       "      <td>38.0</td>\n",
       "      <td>1</td>\n",
       "      <td>0</td>\n",
       "      <td>PC 17599</td>\n",
       "      <td>71.2833</td>\n",
       "      <td>C85</td>\n",
       "      <td>C</td>\n",
       "    </tr>\n",
       "    <tr>\n",
       "      <th>2</th>\n",
       "      <td>3</td>\n",
       "      <td>1</td>\n",
       "      <td>3</td>\n",
       "      <td>Heikkinen, Miss. Laina</td>\n",
       "      <td>female</td>\n",
       "      <td>26.0</td>\n",
       "      <td>0</td>\n",
       "      <td>0</td>\n",
       "      <td>STON/O2. 3101282</td>\n",
       "      <td>7.9250</td>\n",
       "      <td>NaN</td>\n",
       "      <td>S</td>\n",
       "    </tr>\n",
       "    <tr>\n",
       "      <th>3</th>\n",
       "      <td>4</td>\n",
       "      <td>1</td>\n",
       "      <td>1</td>\n",
       "      <td>Futrelle, Mrs. Jacques Heath (Lily May Peel)</td>\n",
       "      <td>female</td>\n",
       "      <td>35.0</td>\n",
       "      <td>1</td>\n",
       "      <td>0</td>\n",
       "      <td>113803</td>\n",
       "      <td>53.1000</td>\n",
       "      <td>C123</td>\n",
       "      <td>S</td>\n",
       "    </tr>\n",
       "    <tr>\n",
       "      <th>4</th>\n",
       "      <td>5</td>\n",
       "      <td>0</td>\n",
       "      <td>3</td>\n",
       "      <td>Allen, Mr. William Henry</td>\n",
       "      <td>male</td>\n",
       "      <td>35.0</td>\n",
       "      <td>0</td>\n",
       "      <td>0</td>\n",
       "      <td>373450</td>\n",
       "      <td>8.0500</td>\n",
       "      <td>NaN</td>\n",
       "      <td>S</td>\n",
       "    </tr>\n",
       "    <tr>\n",
       "      <th>...</th>\n",
       "      <td>...</td>\n",
       "      <td>...</td>\n",
       "      <td>...</td>\n",
       "      <td>...</td>\n",
       "      <td>...</td>\n",
       "      <td>...</td>\n",
       "      <td>...</td>\n",
       "      <td>...</td>\n",
       "      <td>...</td>\n",
       "      <td>...</td>\n",
       "      <td>...</td>\n",
       "      <td>...</td>\n",
       "    </tr>\n",
       "    <tr>\n",
       "      <th>886</th>\n",
       "      <td>887</td>\n",
       "      <td>0</td>\n",
       "      <td>2</td>\n",
       "      <td>Montvila, Rev. Juozas</td>\n",
       "      <td>male</td>\n",
       "      <td>27.0</td>\n",
       "      <td>0</td>\n",
       "      <td>0</td>\n",
       "      <td>211536</td>\n",
       "      <td>13.0000</td>\n",
       "      <td>NaN</td>\n",
       "      <td>S</td>\n",
       "    </tr>\n",
       "    <tr>\n",
       "      <th>887</th>\n",
       "      <td>888</td>\n",
       "      <td>1</td>\n",
       "      <td>1</td>\n",
       "      <td>Graham, Miss. Margaret Edith</td>\n",
       "      <td>female</td>\n",
       "      <td>19.0</td>\n",
       "      <td>0</td>\n",
       "      <td>0</td>\n",
       "      <td>112053</td>\n",
       "      <td>30.0000</td>\n",
       "      <td>B42</td>\n",
       "      <td>S</td>\n",
       "    </tr>\n",
       "    <tr>\n",
       "      <th>888</th>\n",
       "      <td>889</td>\n",
       "      <td>0</td>\n",
       "      <td>3</td>\n",
       "      <td>Johnston, Miss. Catherine Helen \"Carrie\"</td>\n",
       "      <td>female</td>\n",
       "      <td>NaN</td>\n",
       "      <td>1</td>\n",
       "      <td>2</td>\n",
       "      <td>W./C. 6607</td>\n",
       "      <td>23.4500</td>\n",
       "      <td>NaN</td>\n",
       "      <td>S</td>\n",
       "    </tr>\n",
       "    <tr>\n",
       "      <th>889</th>\n",
       "      <td>890</td>\n",
       "      <td>1</td>\n",
       "      <td>1</td>\n",
       "      <td>Behr, Mr. Karl Howell</td>\n",
       "      <td>male</td>\n",
       "      <td>26.0</td>\n",
       "      <td>0</td>\n",
       "      <td>0</td>\n",
       "      <td>111369</td>\n",
       "      <td>30.0000</td>\n",
       "      <td>C148</td>\n",
       "      <td>C</td>\n",
       "    </tr>\n",
       "    <tr>\n",
       "      <th>890</th>\n",
       "      <td>891</td>\n",
       "      <td>0</td>\n",
       "      <td>3</td>\n",
       "      <td>Dooley, Mr. Patrick</td>\n",
       "      <td>male</td>\n",
       "      <td>32.0</td>\n",
       "      <td>0</td>\n",
       "      <td>0</td>\n",
       "      <td>370376</td>\n",
       "      <td>7.7500</td>\n",
       "      <td>NaN</td>\n",
       "      <td>Q</td>\n",
       "    </tr>\n",
       "  </tbody>\n",
       "</table>\n",
       "<p>891 rows × 12 columns</p>\n",
       "</div>"
      ]
     },
     "execution_count": 26,
     "metadata": {},
     "output_type": "execute_result"
    }
   ],
   "execution_count": 26
  },
  {
   "cell_type": "markdown",
   "source": [
    "**DataFrame Info**"
   ],
   "metadata": {
    "id": "LylKYGXiO6hh"
   },
   "id": "LylKYGXiO6hh"
  },
  {
   "cell_type": "code",
   "source": "display(df.info())",
   "metadata": {
    "id": "ADEetlsgOryF",
    "outputId": "77e542d8-cf37-478c-c590-5d2a001b606e",
    "colab": {
     "base_uri": "https://localhost:8080/"
    },
    "ExecuteTime": {
     "end_time": "2025-10-27T23:51:28.621938Z",
     "start_time": "2025-10-27T23:51:28.612298Z"
    }
   },
   "id": "ADEetlsgOryF",
   "outputs": [
    {
     "name": "stdout",
     "output_type": "stream",
     "text": [
      "<class 'pandas.core.frame.DataFrame'>\n",
      "RangeIndex: 891 entries, 0 to 890\n",
      "Data columns (total 12 columns):\n",
      " #   Column       Non-Null Count  Dtype  \n",
      "---  ------       --------------  -----  \n",
      " 0   PassengerId  891 non-null    int64  \n",
      " 1   Survived     891 non-null    int64  \n",
      " 2   Pclass       891 non-null    int64  \n",
      " 3   Name         891 non-null    object \n",
      " 4   Sex          891 non-null    object \n",
      " 5   Age          714 non-null    float64\n",
      " 6   SibSp        891 non-null    int64  \n",
      " 7   Parch        891 non-null    int64  \n",
      " 8   Ticket       891 non-null    object \n",
      " 9   Fare         891 non-null    float64\n",
      " 10  Cabin        204 non-null    object \n",
      " 11  Embarked     889 non-null    object \n",
      "dtypes: float64(2), int64(5), object(5)\n",
      "memory usage: 83.7+ KB\n"
     ]
    },
    {
     "data": {
      "text/plain": [
       "None"
      ]
     },
     "metadata": {},
     "output_type": "display_data",
     "jetTransient": {
      "display_id": null
     }
    }
   ],
   "execution_count": 27
  },
  {
   "metadata": {},
   "cell_type": "markdown",
   "source": "**DataFrame Duplicated**",
   "id": "71f48dca6c3f0540"
  },
  {
   "metadata": {
    "ExecuteTime": {
     "end_time": "2025-10-27T23:51:28.655502Z",
     "start_time": "2025-10-27T23:51:28.650062Z"
    }
   },
   "cell_type": "code",
   "source": "df.duplicated()",
   "id": "8c2825e7bf4263c2",
   "outputs": [
    {
     "data": {
      "text/plain": [
       "0      False\n",
       "1      False\n",
       "2      False\n",
       "3      False\n",
       "4      False\n",
       "       ...  \n",
       "886    False\n",
       "887    False\n",
       "888    False\n",
       "889    False\n",
       "890    False\n",
       "Length: 891, dtype: bool"
      ]
     },
     "execution_count": 28,
     "metadata": {},
     "output_type": "execute_result"
    }
   ],
   "execution_count": 28
  },
  {
   "metadata": {},
   "cell_type": "markdown",
   "source": "**DataFrame Describe**",
   "id": "1849e602fb549c7e"
  },
  {
   "metadata": {
    "ExecuteTime": {
     "end_time": "2025-10-27T23:51:28.773140Z",
     "start_time": "2025-10-27T23:51:28.764637Z"
    }
   },
   "cell_type": "code",
   "source": "display(df.describe())",
   "id": "d722aa347e0a5d4a",
   "outputs": [
    {
     "data": {
      "text/plain": [
       "       PassengerId    Survived      Pclass         Age       SibSp  \\\n",
       "count   891.000000  891.000000  891.000000  714.000000  891.000000   \n",
       "mean    446.000000    0.383838    2.308642   29.699118    0.523008   \n",
       "std     257.353842    0.486592    0.836071   14.526497    1.102743   \n",
       "min       1.000000    0.000000    1.000000    0.420000    0.000000   \n",
       "25%     223.500000    0.000000    2.000000   20.125000    0.000000   \n",
       "50%     446.000000    0.000000    3.000000   28.000000    0.000000   \n",
       "75%     668.500000    1.000000    3.000000   38.000000    1.000000   \n",
       "max     891.000000    1.000000    3.000000   80.000000    8.000000   \n",
       "\n",
       "            Parch        Fare  \n",
       "count  891.000000  891.000000  \n",
       "mean     0.381594   32.204208  \n",
       "std      0.806057   49.693429  \n",
       "min      0.000000    0.000000  \n",
       "25%      0.000000    7.910400  \n",
       "50%      0.000000   14.454200  \n",
       "75%      0.000000   31.000000  \n",
       "max      6.000000  512.329200  "
      ],
      "text/html": [
       "<div>\n",
       "<style scoped>\n",
       "    .dataframe tbody tr th:only-of-type {\n",
       "        vertical-align: middle;\n",
       "    }\n",
       "\n",
       "    .dataframe tbody tr th {\n",
       "        vertical-align: top;\n",
       "    }\n",
       "\n",
       "    .dataframe thead th {\n",
       "        text-align: right;\n",
       "    }\n",
       "</style>\n",
       "<table border=\"1\" class=\"dataframe\">\n",
       "  <thead>\n",
       "    <tr style=\"text-align: right;\">\n",
       "      <th></th>\n",
       "      <th>PassengerId</th>\n",
       "      <th>Survived</th>\n",
       "      <th>Pclass</th>\n",
       "      <th>Age</th>\n",
       "      <th>SibSp</th>\n",
       "      <th>Parch</th>\n",
       "      <th>Fare</th>\n",
       "    </tr>\n",
       "  </thead>\n",
       "  <tbody>\n",
       "    <tr>\n",
       "      <th>count</th>\n",
       "      <td>891.000000</td>\n",
       "      <td>891.000000</td>\n",
       "      <td>891.000000</td>\n",
       "      <td>714.000000</td>\n",
       "      <td>891.000000</td>\n",
       "      <td>891.000000</td>\n",
       "      <td>891.000000</td>\n",
       "    </tr>\n",
       "    <tr>\n",
       "      <th>mean</th>\n",
       "      <td>446.000000</td>\n",
       "      <td>0.383838</td>\n",
       "      <td>2.308642</td>\n",
       "      <td>29.699118</td>\n",
       "      <td>0.523008</td>\n",
       "      <td>0.381594</td>\n",
       "      <td>32.204208</td>\n",
       "    </tr>\n",
       "    <tr>\n",
       "      <th>std</th>\n",
       "      <td>257.353842</td>\n",
       "      <td>0.486592</td>\n",
       "      <td>0.836071</td>\n",
       "      <td>14.526497</td>\n",
       "      <td>1.102743</td>\n",
       "      <td>0.806057</td>\n",
       "      <td>49.693429</td>\n",
       "    </tr>\n",
       "    <tr>\n",
       "      <th>min</th>\n",
       "      <td>1.000000</td>\n",
       "      <td>0.000000</td>\n",
       "      <td>1.000000</td>\n",
       "      <td>0.420000</td>\n",
       "      <td>0.000000</td>\n",
       "      <td>0.000000</td>\n",
       "      <td>0.000000</td>\n",
       "    </tr>\n",
       "    <tr>\n",
       "      <th>25%</th>\n",
       "      <td>223.500000</td>\n",
       "      <td>0.000000</td>\n",
       "      <td>2.000000</td>\n",
       "      <td>20.125000</td>\n",
       "      <td>0.000000</td>\n",
       "      <td>0.000000</td>\n",
       "      <td>7.910400</td>\n",
       "    </tr>\n",
       "    <tr>\n",
       "      <th>50%</th>\n",
       "      <td>446.000000</td>\n",
       "      <td>0.000000</td>\n",
       "      <td>3.000000</td>\n",
       "      <td>28.000000</td>\n",
       "      <td>0.000000</td>\n",
       "      <td>0.000000</td>\n",
       "      <td>14.454200</td>\n",
       "    </tr>\n",
       "    <tr>\n",
       "      <th>75%</th>\n",
       "      <td>668.500000</td>\n",
       "      <td>1.000000</td>\n",
       "      <td>3.000000</td>\n",
       "      <td>38.000000</td>\n",
       "      <td>1.000000</td>\n",
       "      <td>0.000000</td>\n",
       "      <td>31.000000</td>\n",
       "    </tr>\n",
       "    <tr>\n",
       "      <th>max</th>\n",
       "      <td>891.000000</td>\n",
       "      <td>1.000000</td>\n",
       "      <td>3.000000</td>\n",
       "      <td>80.000000</td>\n",
       "      <td>8.000000</td>\n",
       "      <td>6.000000</td>\n",
       "      <td>512.329200</td>\n",
       "    </tr>\n",
       "  </tbody>\n",
       "</table>\n",
       "</div>"
      ]
     },
     "metadata": {},
     "output_type": "display_data",
     "jetTransient": {
      "display_id": null
     }
    }
   ],
   "execution_count": 29
  },
  {
   "cell_type": "markdown",
   "source": [
    "**Discussion about dataframe**: This dataset contains 891 entries and 12 features. Based on the df.info(), only 'Age' column is missing values.  <br>\n",
    "There are no duplicate rows as indicated by df.duplicated() being equal to number of entries."
   ],
   "metadata": {
    "id": "Jy5kNx9sO_q8"
   },
   "id": "Jy5kNx9sO_q8"
  },
  {
   "cell_type": "markdown",
   "source": [
    "**Significance Level Choice**: For all hypothesis testing, we are choosing a significance level α = 0.05."
   ],
   "metadata": {
    "id": "DbHP9UTzNiV-"
   },
   "id": "DbHP9UTzNiV-"
  },
  {
   "cell_type": "markdown",
   "source": "---",
   "metadata": {
    "id": "WdwzMCO8OMs5"
   },
   "id": "WdwzMCO8OMs5"
  },
  {
   "metadata": {},
   "cell_type": "markdown",
   "source": "## Data cleaning",
   "id": "a7608fa0356d99f2"
  },
  {
   "cell_type": "code",
   "id": "146c8f99",
   "metadata": {
    "colab": {
     "base_uri": "https://localhost:8080/",
     "height": 632
    },
    "id": "146c8f99",
    "outputId": "98ee7484-10ce-495b-d137-ce4d14d02e1a",
    "ExecuteTime": {
     "end_time": "2025-10-27T23:51:28.812255Z",
     "start_time": "2025-10-27T23:51:28.808718Z"
    }
   },
   "source": [
    "# Convert sex to ints\n",
    "def str_to_int(val):\n",
    "    if val == 'male':\n",
    "        return 0\n",
    "    elif val == 'female':\n",
    "        return 1\n",
    "    else:\n",
    "        return None\n",
    "df['Sex'] = df['Sex'].apply(str_to_int)\n",
    "\n",
    "# Fill MCAR with single imputing (median)\n",
    "df['Age'] = pd.to_numeric(df['Age'], errors='coerce').fillna(df['Age'].median())"
   ],
   "outputs": [],
   "execution_count": 30
  },
  {
   "metadata": {},
   "cell_type": "markdown",
   "source": "## Survival vs. Passenger Class",
   "id": "a1b27f0af123fd3"
  },
  {
   "metadata": {
    "ExecuteTime": {
     "end_time": "2025-10-27T23:51:28.956260Z",
     "start_time": "2025-10-27T23:51:28.942068Z"
    }
   },
   "cell_type": "code",
   "source": [
    "contingency_table = pd.crosstab(df['Pclass'], df['Survived'])\n",
    "chi2_class, p_class, dof_class, _ = stats.chi2_contingency(contingency_table)\n",
    "print(contingency_table)\n",
    "print(f\"Chi-square: {chi2_class:.4g}  p-value: {p_class:.4g}\")"
   ],
   "id": "abea7acbdfd1881c",
   "outputs": [
    {
     "name": "stdout",
     "output_type": "stream",
     "text": [
      "Survived    0    1\n",
      "Pclass            \n",
      "1          80  136\n",
      "2          97   87\n",
      "3         372  119\n",
      "Chi-square: 102.9  p-value: 4.549e-23\n"
     ]
    }
   ],
   "execution_count": 31
  },
  {
   "metadata": {
    "colab": {
     "base_uri": "https://localhost:8080/",
     "height": 452
    },
    "id": "fD-0EF9YYzoR",
    "outputId": "454d8ee2-83a8-4377-baa1-fae118523090",
    "ExecuteTime": {
     "end_time": "2025-10-27T23:51:29.102995Z",
     "start_time": "2025-10-27T23:51:29.022954Z"
    }
   },
   "cell_type": "code",
   "source": [
    "survive_rate_class = contingency_table[1] / contingency_table.sum(axis=1)\n",
    "x_values = [\"1st Class\", \"2nd Class\", \"3rd Class\"]\n",
    "survival = survive_rate_class.values\n",
    "plt.bar(x_values, survival)\n",
    "plt.title(\"Survival Rate vs. Passenger Class\")\n",
    "plt.ylabel(\"Survival Rate\")\n",
    "plt.show()"
   ],
   "id": "fb933106cbf51c5b",
   "outputs": [
    {
     "data": {
      "text/plain": [
       "<Figure size 640x480 with 1 Axes>"
      ],
      "image/png": "[encoded data removed]"
     },
     "metadata": {},
     "output_type": "display_data",
     "jetTransient": {
      "display_id": null
     }
    }
   ],
   "execution_count": 32
  },
  {
   "metadata": {
    "id": "ZiQ6JcPxbGZ5"
   },
   "cell_type": "markdown",
   "source": "From the contigency table, we see that there is a statistically significant relationship between passenger class and survival outcome. There appears to be an association between passenger class and whether a passenger survived the Titanic. First class passengers were much more likely to survive, and this makes logical sense because they had better access to lifeboats and were given priority. The p-value is less than 0.05, meaning we reject the null hypothesis and conclude that passenger class is strongly associated with survival on the Titanic.",
   "id": "7438b1bec37743b3"
  },
  {
   "metadata": {
    "ExecuteTime": {
     "end_time": "2025-10-27T23:51:29.152370Z",
     "start_time": "2025-10-27T23:51:29.147623Z"
    }
   },
   "cell_type": "code",
   "source": [
    "survival_num = contingency_table[1]\n",
    "total_counts = contingency_table.sum(axis=1)\n",
    "comparisons = [(1, 2),(1, 3), (2, 3)]\n",
    "print(\"Pairwise Z-tests for survival differences between passenger classes:\\n\")\n",
    "for i, j in comparisons:\n",
    "  print(\"Class \"f\"{i} vs. Class \"f\"{j}:\")\n",
    "  survival_btwn_classes = [survival_num[i], survival_num[j]]\n",
    "  total = [total_counts[i], total_counts[j]]\n",
    "  z, p = proportions_ztest(survival_btwn_classes, total)\n",
    "  print(f\"Z = {z:.4g}, p-value = {p:.4g}\")"
   ],
   "id": "484b40fdd503290a",
   "outputs": [
    {
     "name": "stdout",
     "output_type": "stream",
     "text": [
      "Pairwise Z-tests for survival differences between passenger classes:\n",
      "\n",
      "Class 1 vs. Class 2:\n",
      "Z = 3.147, p-value = 0.00165\n",
      "Class 1 vs. Class 3:\n",
      "Z = 9.878, p-value = 5.21e-23\n",
      "Class 2 vs. Class 3:\n",
      "Z = 5.79, p-value = 7.036e-09\n"
     ]
    }
   ],
   "execution_count": 33
  },
  {
   "metadata": {},
   "cell_type": "markdown",
   "source": "All of the p-values are far below 0.05, so we reject the null hypothesis for all comparisons of the passenger classes. So, each difference in survival between the classes (first vs. second, first vs. third, and second vs. third) is statistically significant. So, passenger class was a major factor that influenced survival.",
   "id": "22b3e5bbffc957da"
  },
  {
   "cell_type": "markdown",
   "source": "## Survival vs. Passenger Fare",
   "metadata": {
    "id": "_z1iUbMO6l8H"
   },
   "id": "_z1iUbMO6l8H"
  },
  {
   "cell_type": "code",
   "source": [
    "fare_survived = df[df['Survived'] == 1]['Fare']\n",
    "fare_died = df[df['Survived'] == 0]['Fare']\n",
    "\n",
    "# displaying summary statistics for both group\n",
    "print(\"----- Survived ----- \")\n",
    "print(fare_survived.describe())\n",
    "print(\"\\n\\n----- Not Survived ----- \")\n",
    "print(fare_died.describe())"
   ],
   "metadata": {
    "colab": {
     "base_uri": "https://localhost:8080/",
     "height": 722
    },
    "id": "YXLZfTE3D4QS",
    "outputId": "793675d0-f3cc-40be-b984-e6c7181e5363",
    "ExecuteTime": {
     "end_time": "2025-10-27T23:51:29.185365Z",
     "start_time": "2025-10-27T23:51:29.175268Z"
    }
   },
   "id": "YXLZfTE3D4QS",
   "outputs": [
    {
     "name": "stdout",
     "output_type": "stream",
     "text": [
      "----- Survived ----- \n",
      "count    342.000000\n",
      "mean      48.395408\n",
      "std       66.596998\n",
      "min        0.000000\n",
      "25%       12.475000\n",
      "50%       26.000000\n",
      "75%       57.000000\n",
      "max      512.329200\n",
      "Name: Fare, dtype: float64\n",
      "\n",
      "\n",
      "----- Not Survived ----- \n",
      "count    549.000000\n",
      "mean      22.117887\n",
      "std       31.388207\n",
      "min        0.000000\n",
      "25%        7.854200\n",
      "50%       10.500000\n",
      "75%       26.000000\n",
      "max      263.000000\n",
      "Name: Fare, dtype: float64\n"
     ]
    }
   ],
   "execution_count": 34
  },
  {
   "cell_type": "markdown",
   "source": [
    "There are only two possible results for survivability: Survived or Died. So, these two groups are independent regarding themselves. <br>\n",
    "H0: Both groups have no difference in fare  <br>\n",
    "HA: Both groups have difference in fare"
   ],
   "metadata": {
    "id": "PHYdvx7A7g11"
   },
   "id": "PHYdvx7A7g11"
  },
  {
   "cell_type": "code",
   "source": [
    "# unpaired t-test\n",
    "t_stat, p_value = stats.ttest_ind(fare_survived, fare_died, equal_var=False, alternative = 'two-sided')\n",
    "print(f\"unpaired_t test p_value: {p_value:.4g}\")\n",
    "\n",
    "# mann-whitney u test\n",
    "u, p_value = stats.mannwhitneyu(fare_survived, fare_died, alternative='two-sided')\n",
    "print(f\"mann-whitney u p value: {p_value:.4g}\")"
   ],
   "metadata": {
    "colab": {
     "base_uri": "https://localhost:8080/"
    },
    "id": "GunBOeI87B9E",
    "outputId": "71351cb7-8e28-447b-f1bd-3a3195144fe2",
    "ExecuteTime": {
     "end_time": "2025-10-27T23:51:29.212457Z",
     "start_time": "2025-10-27T23:51:29.204273Z"
    }
   },
   "id": "GunBOeI87B9E",
   "outputs": [
    {
     "name": "stdout",
     "output_type": "stream",
     "text": [
      "unpaired_t test p_value: 2.699e-11\n",
      "mann-whitney u p value: 4.553e-22\n"
     ]
    }
   ],
   "execution_count": 35
  },
  {
   "cell_type": "markdown",
   "source": [
    "Based on the unpaired t-test, the p-value is $2.70  \\cdot 10^{-11}$ which is much lower than the significance level of 0.05. This means, we reject the null hypothesis meaning there was a signifant difference between survived and not-survived people's fare. On other words, fair did have an effect on the survivibility of the passesgeners.\n",
    "Since both group has outliers, we decided to do a mann-whitney u test. It also gives the similar conclusion with a p value of $4.55  \\cdot 10^{-22}$ which is much lower than significance level of 0.5. So, it similarly suggests that fair did have an effect on the survivibility of the passesgeners."
   ],
   "metadata": {
    "id": "cF6hrKQRCKpE"
   },
   "id": "cF6hrKQRCKpE"
  },
  {
   "cell_type": "code",
   "source": [
    "plt.figure(figsize=(6, 5))\n",
    "plt.boxplot([fare_survived, fare_died], tick_labels = ['Survived', 'Not Survived'])\n",
    "plt.title(\"Fare vs Survivibility\")\n",
    "plt.ylabel(\"Fare\")\n",
    "plt.show()"
   ],
   "metadata": {
    "colab": {
     "base_uri": "https://localhost:8080/",
     "height": 523
    },
    "id": "JYaODDpWDKlD",
    "outputId": "698295e8-af15-4804-c6bd-7a02b40ae86c",
    "ExecuteTime": {
     "end_time": "2025-10-27T23:51:29.282499Z",
     "start_time": "2025-10-27T23:51:29.225817Z"
    }
   },
   "id": "JYaODDpWDKlD",
   "outputs": [
    {
     "data": {
      "text/plain": [
       "<Figure size 600x500 with 1 Axes>"
      ],
      "image/png": "[encoded data removed]"
     },
     "metadata": {},
     "output_type": "display_data",
     "jetTransient": {
      "display_id": null
     }
    }
   ],
   "execution_count": 36
  },
  {
   "metadata": {},
   "cell_type": "markdown",
   "source": "## Survival vs. Sex",
   "id": "c1c96843f161a7fe"
  },
  {
   "metadata": {
    "ExecuteTime": {
     "end_time": "2025-10-27T23:51:29.383367Z",
     "start_time": "2025-10-27T23:51:29.294942Z"
    }
   },
   "cell_type": "code",
   "source": [
    "contingency = pd.crosstab(df['Survived'], df['Sex'])\n",
    "print(contingency)\n",
    "fig, (a1, a2) = plt.subplots(1, 2)\n",
    "a1.bar(['Died', 'Survived'], contingency[0])\n",
    "a1.set_title(\"Men\")\n",
    "a2.bar(['Died', 'Survived'], contingency[1])\n",
    "a2.set_title(\"Women\")\n",
    "fig.tight_layout()"
   ],
   "id": "67ef3dfc3874de39",
   "outputs": [
    {
     "name": "stdout",
     "output_type": "stream",
     "text": [
      "Sex         0    1\n",
      "Survived          \n",
      "0         468   81\n",
      "1         109  233\n"
     ]
    },
    {
     "data": {
      "text/plain": [
       "<Figure size 640x480 with 2 Axes>"
      ],
      "image/png": "[encoded data removed]"
     },
     "metadata": {},
     "output_type": "display_data",
     "jetTransient": {
      "display_id": null
     }
    }
   ],
   "execution_count": 37
  },
  {
   "metadata": {
    "ExecuteTime": {
     "end_time": "2025-10-26T21:29:31.651370Z",
     "start_time": "2025-10-26T21:29:31.649212Z"
    }
   },
   "cell_type": "markdown",
   "source": "The easiest test we can perform here is a simple chi-squared test. However, because our table is so small (2x2), we need to apply Yate's correction for continuity, which brings each observation 0.5 closer to the expected frequency before squaring when it computes the chi-squared test statistic. Thankfully, Scipy automatically detects and performs this correction for us:",
   "id": "f4823a6de3b26c02"
  },
  {
   "metadata": {
    "ExecuteTime": {
     "end_time": "2025-10-27T23:51:29.412134Z",
     "start_time": "2025-10-27T23:51:29.401980Z"
    }
   },
   "cell_type": "code",
   "source": [
    "chi2 = stats.chi2_contingency(contingency)\n",
    "print(\"Chi-squared test with Yate's correction for continuity:\")\n",
    "print(f\"Chi-squared test statistic: {chi2.statistic: .4g}\")\n",
    "print(f\"p-value: {chi2.pvalue: .4g}\")"
   ],
   "id": "8a825d720f18799c",
   "outputs": [
    {
     "name": "stdout",
     "output_type": "stream",
     "text": [
      "Chi-squared test with Yate's correction for continuity:\n",
      "Chi-squared test statistic:  260.7\n",
      "p-value:  1.197e-58\n"
     ]
    }
   ],
   "execution_count": 38
  },
  {
   "metadata": {},
   "cell_type": "markdown",
   "source": [
    "Our resulting p-value of $1.197 \\cdot 10^{-58}$ is clearly less than our significance level of 0.05.\n",
    "\n",
    "Because our sample size is so small, it's worth additionally performing Fisher's exact test, a statistical test usually reserved for small contingency tables known for being particularly conservative regarding the p-value:"
   ],
   "id": "c46ec985c7d92c63"
  },
  {
   "metadata": {
    "ExecuteTime": {
     "end_time": "2025-10-27T23:51:29.436265Z",
     "start_time": "2025-10-27T23:51:29.429696Z"
    }
   },
   "cell_type": "code",
   "source": [
    "fisher_exact_result = stats.fisher_exact(contingency, alternative=\"two-sided\")\n",
    "print(\"Fisher's exact test:\")\n",
    "print(f\"Prior odds ratio: {fisher_exact_result.statistic:.4g}\")\n",
    "print(f\"P-value: {fisher_exact_result.pvalue: .4g}\")"
   ],
   "id": "74767a6558e0844e",
   "outputs": [
    {
     "name": "stdout",
     "output_type": "stream",
     "text": [
      "Fisher's exact test:\n",
      "Prior odds ratio: 12.35\n",
      "P-value:  6.464e-60\n"
     ]
    }
   ],
   "execution_count": 39
  },
  {
   "metadata": {},
   "cell_type": "markdown",
   "source": "Note that, even using Fisher's exact test, we still obtain a p-value of $6.464 \\cdot 10^{-60}$ significantly below our significance level of 0.05. There is clearly substantial evidence that the distribution of passengers who survived vs. died is not the same between men and women on the Titanic, which makes sense as women and children were given priority when boarding lifeboats.\n",
   "id": "6ba46d3ec5199c6a"
  },
  {
   "metadata": {},
   "cell_type": "markdown",
   "source": "## Survival vs. # siblings/spouses",
   "id": "65bebcd04b16808b"
  },
  {
   "metadata": {
    "ExecuteTime": {
     "end_time": "2025-10-27T23:51:29.464560Z",
     "start_time": "2025-10-27T23:51:29.452843Z"
    }
   },
   "cell_type": "code",
   "source": [
    "sibsp_table = pd.crosstab(df['SibSp'], df['Survived'])\n",
    "chi2, p, dof, expected = stats.chi2_contingency(sibsp_table)\n",
    "print(\"SibSp vs Survived\")\n",
    "print(f\"Chi2: {chi2:.4g}\", f\"p-value: {p:.4g}\")\n",
    "print(\"Contingency Table:\\n\", sibsp_table, \"\\n\")\n"
   ],
   "id": "a47b025180de033c",
   "outputs": [
    {
     "name": "stdout",
     "output_type": "stream",
     "text": [
      "SibSp vs Survived\n",
      "Chi2: 37.27 p-value: 1.559e-06\n",
      "Contingency Table:\n",
      " Survived    0    1\n",
      "SibSp             \n",
      "0         398  210\n",
      "1          97  112\n",
      "2          15   13\n",
      "3          12    4\n",
      "4          15    3\n",
      "5           5    0\n",
      "8           7    0 \n",
      "\n"
     ]
    }
   ],
   "execution_count": 40
  },
  {
   "metadata": {},
   "cell_type": "markdown",
   "source": "From the contingency table, we see that there is a statistically significant relationship between the number of siblings/spouses aboard and survival outcome. Passengers with less siblings and spouses (SibSp is lower) had a lower chance of dying and higher chance of surviving compared to those with larger families. The Chi-squared test gives a p-value of approximately $1.56 \\cdot 10^{-6}$, which is far below 0.05. This means we reject the null hypothesis and conclude that SibSp is significantly associated with survival on the Titanic. It makes sense logically, as passengers with very large families may have had more difficulty escaping in time.",
   "id": "2fade671e4160167"
  },
  {
   "metadata": {},
   "cell_type": "markdown",
   "source": "## Survival vs. # parents/children",
   "id": "b5cc1f50793b070"
  },
  {
   "metadata": {
    "ExecuteTime": {
     "end_time": "2025-10-27T23:51:29.538912Z",
     "start_time": "2025-10-27T23:51:29.529930Z"
    }
   },
   "cell_type": "code",
   "source": [
    "parch_table = pd.crosstab(df['Parch'], df['Survived'])\n",
    "chi2, p, dof, expected = stats.chi2_contingency(parch_table)\n",
    "print(\"Parch vs Survived\")\n",
    "print(f\"Chi2: {chi2:.4g}\", f\"p-value: {p:.4g}\")\n",
    "print(\"Contingency Table:\\n\", parch_table, \"\\n\")"
   ],
   "id": "4722fef0351168e4",
   "outputs": [
    {
     "name": "stdout",
     "output_type": "stream",
     "text": [
      "Parch vs Survived\n",
      "Chi2: 27.93 p-value: 9.704e-05\n",
      "Contingency Table:\n",
      " Survived    0    1\n",
      "Parch             \n",
      "0         445  233\n",
      "1          53   65\n",
      "2          40   40\n",
      "3           2    3\n",
      "4           4    0\n",
      "5           4    1\n",
      "6           1    0 \n",
      "\n"
     ]
    }
   ],
   "execution_count": 41
  },
  {
   "metadata": {},
   "cell_type": "markdown",
   "source": "From the contingency table, we see that there is a statistically significant relationship between the number of parents/children aboard and survival outcome. Passengers traveling with fewer parents or children generally had a higher chance of surviving, whereas those with larger numbers of relatives were less likely to survive. The Chi-squared test gives a p-value of approximately $9.7 \\cdot 10^{-5}$, which is below 0.05, so we reject the null hypothesis. This suggests that traveling with many dependents may have made it more difficult to escape in time, impacting survival.\n",
   "id": "487302328af3cfdb"
  },
  {
   "metadata": {},
   "cell_type": "markdown",
   "source": "## Survival vs. Age",
   "id": "1e4421accbbd3c68"
  },
  {
   "metadata": {
    "ExecuteTime": {
     "end_time": "2025-10-27T23:51:29.561506Z",
     "start_time": "2025-10-27T23:51:29.553763Z"
    }
   },
   "cell_type": "code",
   "source": [
    "age_survived = df[df[\"Survived\"] == 1][\"Age\"]\n",
    "age_not_survived = df[df[\"Survived\"] == 0][\"Age\"]\n",
    "# displaying summary statistics for both group\n",
    "print(\"----- Survived ----- \")\n",
    "print(age_survived.describe())\n",
    "print(\"\\n\\n----- Not Survived ----- \")\n",
    "print(age_not_survived.describe())"
   ],
   "id": "534bf4324b950003",
   "outputs": [
    {
     "name": "stdout",
     "output_type": "stream",
     "text": [
      "----- Survived ----- \n",
      "count    342.000000\n",
      "mean      28.291433\n",
      "std       13.764425\n",
      "min        0.420000\n",
      "25%       21.000000\n",
      "50%       28.000000\n",
      "75%       35.000000\n",
      "max       80.000000\n",
      "Name: Age, dtype: float64\n",
      "\n",
      "\n",
      "----- Not Survived ----- \n",
      "count    549.000000\n",
      "mean      30.028233\n",
      "std       12.499986\n",
      "min        1.000000\n",
      "25%       23.000000\n",
      "50%       28.000000\n",
      "75%       35.000000\n",
      "max       74.000000\n",
      "Name: Age, dtype: float64\n"
     ]
    }
   ],
   "execution_count": 42
  },
  {
   "metadata": {},
   "cell_type": "markdown",
   "source": [
    "H0: There is no meaningful difference between ages of those that survived and those that didn't.\n",
    "\n",
    "HA: There is a meaningful difference between ages of those that survived and those that didn't."
   ],
   "id": "567c14554784a353"
  },
  {
   "metadata": {
    "ExecuteTime": {
     "end_time": "2025-10-27T23:51:29.578503Z",
     "start_time": "2025-10-27T23:51:29.570836Z"
    }
   },
   "cell_type": "code",
   "source": [
    "# unpaired t-test\n",
    "t_stat, p_value = stats.ttest_ind(age_survived, age_not_survived, equal_var=False, alternative = 'two-sided')\n",
    "print(f\"unpaired_t test p_value: {p_value:.4g}\")\n",
    "# mann-whitney u test\n",
    "u, p_value = stats.mannwhitneyu(fare_survived, age_not_survived, alternative='two-sided')\n",
    "print(f\"mann-whitney u p value: {p_value:.4g}\")"
   ],
   "id": "74438fa9be68c031",
   "outputs": [
    {
     "name": "stdout",
     "output_type": "stream",
     "text": [
      "unpaired_t test p_value: 0.05831\n",
      "mann-whitney u p value: 0.03985\n"
     ]
    }
   ],
   "execution_count": 43
  },
  {
   "metadata": {},
   "cell_type": "markdown",
   "source": [
    "The Mann-Whitney test gave a p-value of $3.99 \\cdot 10^{-2}$, which is under our significance level of .05. We reject the null hypothesis, suggesting statistically significant differences between the age distributions of survivors vs non-survivors.\n",
    "However, the t-test had a p-value of $5.83 \\cdot 10^{-2}$, which is over our significance level of .05, meaning we fail to reject the null hypothesis. This suggests that there is no statistical significance between the mean ages of those who survived and those who didn't\n",
    "So, the averages may be similar, but the distributions of survivors' vs. non-survivors' age is different. We reject the null hypothesis based on the Mann-Whitney U test, but fail to reject it based on the t-test."
   ],
   "id": "5f772b93b627430d"
  },
  {
   "metadata": {
    "ExecuteTime": {
     "end_time": "2025-10-27T23:51:29.635826Z",
     "start_time": "2025-10-27T23:51:29.591069Z"
    }
   },
   "cell_type": "code",
   "source": [
    "plt.figure(figsize=(6, 5))\n",
    "plt.boxplot([age_survived, age_not_survived], tick_labels = ['Survived', 'Not Survived'])\n",
    "plt.title(\"Age vs Survivibility\")\n",
    "plt.ylabel(\"Age\")\n",
    "plt.show()"
   ],
   "id": "4ddfa4dba2dcee6d",
   "outputs": [
    {
     "data": {
      "text/plain": [
       "<Figure size 600x500 with 1 Axes>"
      ],
      "image/png": "[encoded data removed]"
     },
     "metadata": {},
     "output_type": "display_data",
     "jetTransient": {
      "display_id": null
     }
    }
   ],
   "execution_count": 44
  },
  {
   "metadata": {
    "ExecuteTime": {
     "end_time": "2025-10-27T23:51:29.647819Z",
     "start_time": "2025-10-27T23:51:29.646473Z"
    }
   },
   "cell_type": "code",
   "source": "",
   "id": "bab6966d17bc4f9",
   "outputs": [],
   "execution_count": null
  }
 ],
 "metadata": {
  "kernelspec": {
   "display_name": "Python 3",
   "language": "python",
   "name": "python3"
  },
  "language_info": {
   "codemirror_mode": {
    "name": "ipython",
    "version": 3
   },
   "file_extension": ".py",
   "mimetype": "text/x-python",
   "name": "python",
   "nbconvert_exporter": "python",
   "pygments_lexer": "ipython3",
   "version": "3.11.9"
  },
  "colab": {
   "provenance": [],
   "include_colab_link": true
  }
 },
 "nbformat": 4,
 "nbformat_minor": 5
}
